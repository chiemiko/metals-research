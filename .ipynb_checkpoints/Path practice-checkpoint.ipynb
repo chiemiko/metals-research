{
 "cells": [
  {
   "cell_type": "code",
   "execution_count": 6,
   "metadata": {},
   "outputs": [
    {
     "data": {
      "text/plain": [
       "1579322289"
      ]
     },
     "execution_count": 6,
     "metadata": {},
     "output_type": "execute_result"
    }
   ],
   "source": [
    "import time\n",
    "\n",
    "int(round(time.time()))"
   ]
  },
  {
   "cell_type": "code",
   "execution_count": 11,
   "metadata": {
    "scrolled": true
   },
   "outputs": [],
   "source": [
    "from pathlib import Path\n",
    "\n",
    "p = Path()\n"
   ]
  },
  {
   "cell_type": "code",
   "execution_count": 15,
   "metadata": {},
   "outputs": [
    {
     "data": {
      "text/plain": [
       "WindowsPath('C:/Users/ckato/Documents/GitHub/metals-research')"
      ]
     },
     "execution_count": 15,
     "metadata": {},
     "output_type": "execute_result"
    }
   ],
   "source": [
    "p.absolute()\n",
    "\n"
   ]
  },
  {
   "cell_type": "code",
   "execution_count": 16,
   "metadata": {},
   "outputs": [
    {
     "data": {
      "text/plain": [
       "<generator object Path.glob at 0x000002D68DDE2570>"
      ]
     },
     "execution_count": 16,
     "metadata": {},
     "output_type": "execute_result"
    }
   ],
   "source": [
    "p.glob('*')"
   ]
  },
  {
   "cell_type": "code",
   "execution_count": 17,
   "metadata": {},
   "outputs": [
    {
     "data": {
      "text/plain": [
       "[WindowsPath('.DS_Store'),\n",
       " WindowsPath('.git'),\n",
       " WindowsPath('.gitignore'),\n",
       " WindowsPath('.ipynb_checkpoints'),\n",
       " WindowsPath('AI-Udacity'),\n",
       " WindowsPath('Archived'),\n",
       " WindowsPath('dashboard outputs'),\n",
       " WindowsPath('data_update.py'),\n",
       " WindowsPath('forecasting'),\n",
       " WindowsPath('LME_nickel.sqlite'),\n",
       " WindowsPath('metals_dashboard.pbix'),\n",
       " WindowsPath('metals_dashboard.sqlite'),\n",
       " WindowsPath('metals_dashboard1.sqlite'),\n",
       " WindowsPath('metals_data_update.ipynb'),\n",
       " WindowsPath('nickel_database.sqlite'),\n",
       " WindowsPath('Presentation'),\n",
       " WindowsPath('raw_data_finals'),\n",
       " WindowsPath('sql_metals_dashboard.pbix'),\n",
       " WindowsPath('sql_metals_dashboard2.pbix'),\n",
       " WindowsPath('Untitled.ipynb'),\n",
       " WindowsPath('wtf.bat')]"
      ]
     },
     "execution_count": 17,
     "metadata": {},
     "output_type": "execute_result"
    }
   ],
   "source": [
    "list(p.glob('*'))"
   ]
  },
  {
   "cell_type": "code",
   "execution_count": null,
   "metadata": {},
   "outputs": [],
   "source": []
  }
 ],
 "metadata": {
  "kernelspec": {
   "display_name": "Python 3",
   "language": "python",
   "name": "python3"
  },
  "language_info": {
   "codemirror_mode": {
    "name": "ipython",
    "version": 3
   },
   "file_extension": ".py",
   "mimetype": "text/x-python",
   "name": "python",
   "nbconvert_exporter": "python",
   "pygments_lexer": "ipython3",
   "version": "3.7.3"
  }
 },
 "nbformat": 4,
 "nbformat_minor": 2
}
