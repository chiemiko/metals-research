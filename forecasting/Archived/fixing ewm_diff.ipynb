{
 "cells": [
  {
   "cell_type": "code",
   "execution_count": 1,
   "metadata": {},
   "outputs": [],
   "source": [
    "import pandas as pd\n",
    "import numpy as np"
   ]
  },
  {
   "cell_type": "code",
   "execution_count": 2,
   "metadata": {},
   "outputs": [
    {
     "data": {
      "text/html": [
       "<div>\n",
       "<style scoped>\n",
       "    .dataframe tbody tr th:only-of-type {\n",
       "        vertical-align: middle;\n",
       "    }\n",
       "\n",
       "    .dataframe tbody tr th {\n",
       "        vertical-align: top;\n",
       "    }\n",
       "\n",
       "    .dataframe thead th {\n",
       "        text-align: right;\n",
       "    }\n",
       "</style>\n",
       "<table border=\"1\" class=\"dataframe\">\n",
       "  <thead>\n",
       "    <tr style=\"text-align: right;\">\n",
       "      <th></th>\n",
       "      <th>A</th>\n",
       "    </tr>\n",
       "  </thead>\n",
       "  <tbody>\n",
       "    <tr>\n",
       "      <th>0</th>\n",
       "      <td>9</td>\n",
       "    </tr>\n",
       "    <tr>\n",
       "      <th>1</th>\n",
       "      <td>0</td>\n",
       "    </tr>\n",
       "    <tr>\n",
       "      <th>2</th>\n",
       "      <td>7</td>\n",
       "    </tr>\n",
       "    <tr>\n",
       "      <th>3</th>\n",
       "      <td>2</td>\n",
       "    </tr>\n",
       "    <tr>\n",
       "      <th>4</th>\n",
       "      <td>6</td>\n",
       "    </tr>\n",
       "    <tr>\n",
       "      <th>5</th>\n",
       "      <td>7</td>\n",
       "    </tr>\n",
       "    <tr>\n",
       "      <th>6</th>\n",
       "      <td>5</td>\n",
       "    </tr>\n",
       "    <tr>\n",
       "      <th>7</th>\n",
       "      <td>1</td>\n",
       "    </tr>\n",
       "    <tr>\n",
       "      <th>8</th>\n",
       "      <td>1</td>\n",
       "    </tr>\n",
       "    <tr>\n",
       "      <th>9</th>\n",
       "      <td>0</td>\n",
       "    </tr>\n",
       "  </tbody>\n",
       "</table>\n",
       "</div>"
      ],
      "text/plain": [
       "   A\n",
       "0  9\n",
       "1  0\n",
       "2  7\n",
       "3  2\n",
       "4  6\n",
       "5  7\n",
       "6  5\n",
       "7  1\n",
       "8  1\n",
       "9  0"
      ]
     },
     "execution_count": 2,
     "metadata": {},
     "output_type": "execute_result"
    }
   ],
   "source": [
    "df = pd.DataFrame({'A': np.random.randint(0, 10, 10)})\n",
    "df"
   ]
  },
  {
   "cell_type": "code",
   "execution_count": 3,
   "metadata": {},
   "outputs": [],
   "source": [
    "df['B'] = df['A'].diff()"
   ]
  },
  {
   "cell_type": "code",
   "execution_count": 4,
   "metadata": {},
   "outputs": [
    {
     "data": {
      "text/html": [
       "<div>\n",
       "<style scoped>\n",
       "    .dataframe tbody tr th:only-of-type {\n",
       "        vertical-align: middle;\n",
       "    }\n",
       "\n",
       "    .dataframe tbody tr th {\n",
       "        vertical-align: top;\n",
       "    }\n",
       "\n",
       "    .dataframe thead th {\n",
       "        text-align: right;\n",
       "    }\n",
       "</style>\n",
       "<table border=\"1\" class=\"dataframe\">\n",
       "  <thead>\n",
       "    <tr style=\"text-align: right;\">\n",
       "      <th></th>\n",
       "      <th>A</th>\n",
       "      <th>B</th>\n",
       "    </tr>\n",
       "  </thead>\n",
       "  <tbody>\n",
       "    <tr>\n",
       "      <th>0</th>\n",
       "      <td>9</td>\n",
       "      <td>NaN</td>\n",
       "    </tr>\n",
       "    <tr>\n",
       "      <th>1</th>\n",
       "      <td>0</td>\n",
       "      <td>-9.0</td>\n",
       "    </tr>\n",
       "    <tr>\n",
       "      <th>2</th>\n",
       "      <td>7</td>\n",
       "      <td>7.0</td>\n",
       "    </tr>\n",
       "    <tr>\n",
       "      <th>3</th>\n",
       "      <td>2</td>\n",
       "      <td>-5.0</td>\n",
       "    </tr>\n",
       "    <tr>\n",
       "      <th>4</th>\n",
       "      <td>6</td>\n",
       "      <td>4.0</td>\n",
       "    </tr>\n",
       "    <tr>\n",
       "      <th>5</th>\n",
       "      <td>7</td>\n",
       "      <td>1.0</td>\n",
       "    </tr>\n",
       "    <tr>\n",
       "      <th>6</th>\n",
       "      <td>5</td>\n",
       "      <td>-2.0</td>\n",
       "    </tr>\n",
       "    <tr>\n",
       "      <th>7</th>\n",
       "      <td>1</td>\n",
       "      <td>-4.0</td>\n",
       "    </tr>\n",
       "    <tr>\n",
       "      <th>8</th>\n",
       "      <td>1</td>\n",
       "      <td>0.0</td>\n",
       "    </tr>\n",
       "    <tr>\n",
       "      <th>9</th>\n",
       "      <td>0</td>\n",
       "      <td>-1.0</td>\n",
       "    </tr>\n",
       "  </tbody>\n",
       "</table>\n",
       "</div>"
      ],
      "text/plain": [
       "   A    B\n",
       "0  9  NaN\n",
       "1  0 -9.0\n",
       "2  7  7.0\n",
       "3  2 -5.0\n",
       "4  6  4.0\n",
       "5  7  1.0\n",
       "6  5 -2.0\n",
       "7  1 -4.0\n",
       "8  1  0.0\n",
       "9  0 -1.0"
      ]
     },
     "execution_count": 4,
     "metadata": {},
     "output_type": "execute_result"
    }
   ],
   "source": [
    "df"
   ]
  },
  {
   "cell_type": "code",
   "execution_count": 5,
   "metadata": {},
   "outputs": [],
   "source": [
    "x, x_diff = df['A'].iloc[0], df['B'].iloc[1:]"
   ]
  },
  {
   "cell_type": "code",
   "execution_count": 6,
   "metadata": {},
   "outputs": [
    {
     "data": {
      "text/plain": [
       "array([ 9., -9.,  7., -5.,  4.,  1., -2., -4.,  0., -1.])"
      ]
     },
     "execution_count": 6,
     "metadata": {},
     "output_type": "execute_result"
    }
   ],
   "source": [
    "np.r_[x, x_diff]"
   ]
  },
  {
   "cell_type": "code",
   "execution_count": 7,
   "metadata": {},
   "outputs": [
    {
     "data": {
      "text/plain": [
       "9"
      ]
     },
     "execution_count": 7,
     "metadata": {},
     "output_type": "execute_result"
    }
   ],
   "source": [
    "x"
   ]
  },
  {
   "cell_type": "code",
   "execution_count": 8,
   "metadata": {},
   "outputs": [
    {
     "data": {
      "text/plain": [
       "1   -9.0\n",
       "2    7.0\n",
       "3   -5.0\n",
       "4    4.0\n",
       "5    1.0\n",
       "6   -2.0\n",
       "7   -4.0\n",
       "8    0.0\n",
       "9   -1.0\n",
       "Name: B, dtype: float64"
      ]
     },
     "execution_count": 8,
     "metadata": {},
     "output_type": "execute_result"
    }
   ],
   "source": [
    "x_diff"
   ]
  },
  {
   "cell_type": "code",
   "execution_count": 9,
   "metadata": {},
   "outputs": [
    {
     "data": {
      "text/plain": [
       "array([9, 0, 7, 2, 6, 7, 5, 1, 1, 0])"
      ]
     },
     "execution_count": 9,
     "metadata": {},
     "output_type": "execute_result"
    }
   ],
   "source": [
    "# .r_ concatenates x= first obervation to the beginning of the x_diff column\n",
    "np.r_[x, x_diff].cumsum().astype(int)"
   ]
  },
  {
   "cell_type": "code",
   "execution_count": 10,
   "metadata": {},
   "outputs": [
    {
     "data": {
      "text/html": [
       "<div>\n",
       "<style scoped>\n",
       "    .dataframe tbody tr th:only-of-type {\n",
       "        vertical-align: middle;\n",
       "    }\n",
       "\n",
       "    .dataframe tbody tr th {\n",
       "        vertical-align: top;\n",
       "    }\n",
       "\n",
       "    .dataframe thead th {\n",
       "        text-align: right;\n",
       "    }\n",
       "</style>\n",
       "<table border=\"1\" class=\"dataframe\">\n",
       "  <thead>\n",
       "    <tr style=\"text-align: right;\">\n",
       "      <th></th>\n",
       "      <th>A</th>\n",
       "      <th>B</th>\n",
       "      <th>C</th>\n",
       "    </tr>\n",
       "  </thead>\n",
       "  <tbody>\n",
       "    <tr>\n",
       "      <th>0</th>\n",
       "      <td>9</td>\n",
       "      <td>NaN</td>\n",
       "      <td>9</td>\n",
       "    </tr>\n",
       "    <tr>\n",
       "      <th>1</th>\n",
       "      <td>0</td>\n",
       "      <td>-9.0</td>\n",
       "      <td>0</td>\n",
       "    </tr>\n",
       "    <tr>\n",
       "      <th>2</th>\n",
       "      <td>7</td>\n",
       "      <td>7.0</td>\n",
       "      <td>7</td>\n",
       "    </tr>\n",
       "    <tr>\n",
       "      <th>3</th>\n",
       "      <td>2</td>\n",
       "      <td>-5.0</td>\n",
       "      <td>2</td>\n",
       "    </tr>\n",
       "    <tr>\n",
       "      <th>4</th>\n",
       "      <td>6</td>\n",
       "      <td>4.0</td>\n",
       "      <td>6</td>\n",
       "    </tr>\n",
       "    <tr>\n",
       "      <th>5</th>\n",
       "      <td>7</td>\n",
       "      <td>1.0</td>\n",
       "      <td>7</td>\n",
       "    </tr>\n",
       "    <tr>\n",
       "      <th>6</th>\n",
       "      <td>5</td>\n",
       "      <td>-2.0</td>\n",
       "      <td>5</td>\n",
       "    </tr>\n",
       "    <tr>\n",
       "      <th>7</th>\n",
       "      <td>1</td>\n",
       "      <td>-4.0</td>\n",
       "      <td>1</td>\n",
       "    </tr>\n",
       "    <tr>\n",
       "      <th>8</th>\n",
       "      <td>1</td>\n",
       "      <td>0.0</td>\n",
       "      <td>1</td>\n",
       "    </tr>\n",
       "    <tr>\n",
       "      <th>9</th>\n",
       "      <td>0</td>\n",
       "      <td>-1.0</td>\n",
       "      <td>0</td>\n",
       "    </tr>\n",
       "  </tbody>\n",
       "</table>\n",
       "</div>"
      ],
      "text/plain": [
       "   A    B  C\n",
       "0  9  NaN  9\n",
       "1  0 -9.0  0\n",
       "2  7  7.0  7\n",
       "3  2 -5.0  2\n",
       "4  6  4.0  6\n",
       "5  7  1.0  7\n",
       "6  5 -2.0  5\n",
       "7  1 -4.0  1\n",
       "8  1  0.0  1\n",
       "9  0 -1.0  0"
      ]
     },
     "execution_count": 10,
     "metadata": {},
     "output_type": "execute_result"
    }
   ],
   "source": [
    "df['C'] = np.r_[x, x_diff].cumsum().astype(int)\n",
    "df"
   ]
  },
  {
   "cell_type": "markdown",
   "metadata": {},
   "source": [
    "## Rescaling from Moving Average\n"
   ]
  },
  {
   "cell_type": "code",
   "execution_count": 11,
   "metadata": {
    "scrolled": true
   },
   "outputs": [
    {
     "data": {
      "text/html": [
       "<div>\n",
       "<style scoped>\n",
       "    .dataframe tbody tr th:only-of-type {\n",
       "        vertical-align: middle;\n",
       "    }\n",
       "\n",
       "    .dataframe tbody tr th {\n",
       "        vertical-align: top;\n",
       "    }\n",
       "\n",
       "    .dataframe thead th {\n",
       "        text-align: right;\n",
       "    }\n",
       "</style>\n",
       "<table border=\"1\" class=\"dataframe\">\n",
       "  <thead>\n",
       "    <tr style=\"text-align: right;\">\n",
       "      <th></th>\n",
       "      <th>A</th>\n",
       "      <th>B</th>\n",
       "      <th>C</th>\n",
       "      <th>exp_moving_avg</th>\n",
       "      <th>ewm_diff</th>\n",
       "    </tr>\n",
       "  </thead>\n",
       "  <tbody>\n",
       "    <tr>\n",
       "      <th>0</th>\n",
       "      <td>9</td>\n",
       "      <td>NaN</td>\n",
       "      <td>9</td>\n",
       "      <td>NaN</td>\n",
       "      <td>NaN</td>\n",
       "    </tr>\n",
       "    <tr>\n",
       "      <th>1</th>\n",
       "      <td>0</td>\n",
       "      <td>-9.0</td>\n",
       "      <td>0</td>\n",
       "      <td>NaN</td>\n",
       "      <td>NaN</td>\n",
       "    </tr>\n",
       "    <tr>\n",
       "      <th>2</th>\n",
       "      <td>7</td>\n",
       "      <td>7.0</td>\n",
       "      <td>7</td>\n",
       "      <td>NaN</td>\n",
       "      <td>NaN</td>\n",
       "    </tr>\n",
       "    <tr>\n",
       "      <th>3</th>\n",
       "      <td>2</td>\n",
       "      <td>-5.0</td>\n",
       "      <td>2</td>\n",
       "      <td>NaN</td>\n",
       "      <td>NaN</td>\n",
       "    </tr>\n",
       "    <tr>\n",
       "      <th>4</th>\n",
       "      <td>6</td>\n",
       "      <td>4.0</td>\n",
       "      <td>6</td>\n",
       "      <td>3.742647</td>\n",
       "      <td>2.257353</td>\n",
       "    </tr>\n",
       "    <tr>\n",
       "      <th>5</th>\n",
       "      <td>7</td>\n",
       "      <td>1.0</td>\n",
       "      <td>7</td>\n",
       "      <td>4.721721</td>\n",
       "      <td>2.278279</td>\n",
       "    </tr>\n",
       "    <tr>\n",
       "      <th>6</th>\n",
       "      <td>5</td>\n",
       "      <td>-2.0</td>\n",
       "      <td>5</td>\n",
       "      <td>5.677632</td>\n",
       "      <td>-0.677632</td>\n",
       "    </tr>\n",
       "    <tr>\n",
       "      <th>7</th>\n",
       "      <td>1</td>\n",
       "      <td>-4.0</td>\n",
       "      <td>1</td>\n",
       "      <td>5.398773</td>\n",
       "      <td>-4.398773</td>\n",
       "    </tr>\n",
       "    <tr>\n",
       "      <th>8</th>\n",
       "      <td>1</td>\n",
       "      <td>0.0</td>\n",
       "      <td>1</td>\n",
       "      <td>3.609206</td>\n",
       "      <td>-2.609206</td>\n",
       "    </tr>\n",
       "    <tr>\n",
       "      <th>9</th>\n",
       "      <td>0</td>\n",
       "      <td>-1.0</td>\n",
       "      <td>0</td>\n",
       "      <td>2.554898</td>\n",
       "      <td>-2.554898</td>\n",
       "    </tr>\n",
       "  </tbody>\n",
       "</table>\n",
       "</div>"
      ],
      "text/plain": [
       "   A    B  C  exp_moving_avg  ewm_diff\n",
       "0  9  NaN  9             NaN       NaN\n",
       "1  0 -9.0  0             NaN       NaN\n",
       "2  7  7.0  7             NaN       NaN\n",
       "3  2 -5.0  2             NaN       NaN\n",
       "4  6  4.0  6        3.742647  2.257353\n",
       "5  7  1.0  7        4.721721  2.278279\n",
       "6  5 -2.0  5        5.677632 -0.677632\n",
       "7  1 -4.0  1        5.398773 -4.398773\n",
       "8  1  0.0  1        3.609206 -2.609206\n",
       "9  0 -1.0  0        2.554898 -2.554898"
      ]
     },
     "execution_count": 11,
     "metadata": {},
     "output_type": "execute_result"
    }
   ],
   "source": [
    "window_setting = 4\n",
    "df['exp_moving_avg'] = df['A'].ewm(span=4, min_periods=4, adjust=True).mean().shift()\n",
    "df['ewm_diff'] = df['A'] - df['exp_moving_avg']\n",
    "df"
   ]
  },
  {
   "cell_type": "code",
   "execution_count": 12,
   "metadata": {},
   "outputs": [],
   "source": [
    "window_setting = 4\n",
    "#train_set = df.iloc[:window_setting]\n",
    "#test_set = test_set['ewm_diff'].reset_index().iloc[:, 1:]\n",
    "\n",
    "'''\n",
    "original_tail = train_set['A'].tail(window_setting)\n",
    "\n",
    "rolling_mean_add = original_tail.ewm(span=4, adjust=True).mean()[3]\n",
    "print(rolling_mean_add)\n",
    "unscaled = test_set.iloc[0,:] + rolling_mean_add\n",
    "unscaled\n",
    "\n",
    "'''"
   ]
  },
  {
   "cell_type": "code",
   "execution_count": 19,
   "metadata": {},
   "outputs": [
    {
     "name": "stdout",
     "output_type": "stream",
     "text": [
      "3.7426470588235285\n"
     ]
    },
    {
     "data": {
      "text/plain": [
       "ewm_diff    6.0\n",
       "Name: 0, dtype: float64"
      ]
     },
     "execution_count": 19,
     "metadata": {},
     "output_type": "execute_result"
    }
   ],
   "source": [
    "train_set = df.iloc[:window_setting]\n",
    "test_set = df['ewm_diff'].dropna().reset_index().iloc[:, 1:]\n",
    "\n",
    "\n",
    "original_tail = train_set['A'].tail(window_setting)\n",
    "\n",
    "rolling_mean_add = original_tail.ewm(span=4, adjust=True).mean()[3]\n",
    "print(rolling_mean_add)\n",
    "unscaled = test_set.iloc[0,:] + rolling_mean_add\n",
    "unscaled\n"
   ]
  },
  {
   "cell_type": "code",
   "execution_count": 21,
   "metadata": {},
   "outputs": [
    {
     "data": {
      "text/plain": [
       "0    9.0\n",
       "1    0.0\n",
       "2    7.0\n",
       "3    2.0\n",
       "0    6.0\n",
       "dtype: float64"
      ]
     },
     "execution_count": 21,
     "metadata": {},
     "output_type": "execute_result"
    }
   ],
   "source": [
    "original_tail = original_tail.append(pd.Series([float(unscaled)]))\n",
    "original_tail"
   ]
  },
  {
   "cell_type": "code",
   "execution_count": 24,
   "metadata": {},
   "outputs": [
    {
     "name": "stdout",
     "output_type": "stream",
     "text": [
      "4.721721027064538\n"
     ]
    }
   ],
   "source": [
    "\n",
    "rolling_mean = original_tail.ewm(span=4, adjust=True).mean()\n",
    "rolling_mean = rolling_mean.reset_index().iloc[:,1]\n",
    "rolling_mean = rolling_mean[len(rolling_mean)-1]\n",
    "\n",
    "unscaled = rolling_mean + test_set.iloc[1,:]\n",
    "\n",
    "print(rolling_mean)\n"
   ]
  },
  {
   "cell_type": "code",
   "execution_count": 25,
   "metadata": {},
   "outputs": [
    {
     "data": {
      "text/plain": [
       "ewm_diff    2.278279\n",
       "Name: 1, dtype: float64"
      ]
     },
     "execution_count": 25,
     "metadata": {},
     "output_type": "execute_result"
    }
   ],
   "source": [
    "test_set.iloc[1,:]"
   ]
  },
  {
   "cell_type": "code",
   "execution_count": 26,
   "metadata": {},
   "outputs": [
    {
     "data": {
      "text/plain": [
       "0    9.0\n",
       "1    0.0\n",
       "2    7.0\n",
       "3    2.0\n",
       "0    6.0\n",
       "0    7.0\n",
       "dtype: float64"
      ]
     },
     "execution_count": 26,
     "metadata": {},
     "output_type": "execute_result"
    }
   ],
   "source": [
    "original_tail = original_tail.append(pd.Series([float(unscaled)]))\n",
    "original_tail"
   ]
  },
  {
   "cell_type": "code",
   "execution_count": 28,
   "metadata": {},
   "outputs": [
    {
     "name": "stdout",
     "output_type": "stream",
     "text": [
      "0         NaN\n",
      "1         NaN\n",
      "2         NaN\n",
      "3    5.595588\n",
      "4    4.903539\n",
      "5    6.202739\n",
      "Name: 0, dtype: float64\n",
      "\n"
     ]
    }
   ],
   "source": [
    "rolling_mean = original_tail.ewm(span=4, adjust=True).mean()\n",
    "rolling_mean = rolling_mean.reset_index().iloc[:,1]\n",
    "\n",
    "#unscaled = rolling_mean[4] + test_set.iloc[1,:]\n",
    "\n",
    "print(rolling_mean)\n",
    "print()\n",
    "#print('Exponential Weighted Mean of most recent 4 unscaled values')\n",
    "#print(rolling_mean[5])"
   ]
  },
  {
   "cell_type": "code",
   "execution_count": 27,
   "metadata": {},
   "outputs": [
    {
     "data": {
      "text/html": [
       "<div>\n",
       "<style scoped>\n",
       "    .dataframe tbody tr th:only-of-type {\n",
       "        vertical-align: middle;\n",
       "    }\n",
       "\n",
       "    .dataframe tbody tr th {\n",
       "        vertical-align: top;\n",
       "    }\n",
       "\n",
       "    .dataframe thead th {\n",
       "        text-align: right;\n",
       "    }\n",
       "</style>\n",
       "<table border=\"1\" class=\"dataframe\">\n",
       "  <thead>\n",
       "    <tr style=\"text-align: right;\">\n",
       "      <th></th>\n",
       "      <th>ewm_diff</th>\n",
       "    </tr>\n",
       "  </thead>\n",
       "  <tbody>\n",
       "    <tr>\n",
       "      <th>0</th>\n",
       "      <td>2.257353</td>\n",
       "    </tr>\n",
       "    <tr>\n",
       "      <th>1</th>\n",
       "      <td>2.278279</td>\n",
       "    </tr>\n",
       "    <tr>\n",
       "      <th>2</th>\n",
       "      <td>-0.677632</td>\n",
       "    </tr>\n",
       "    <tr>\n",
       "      <th>3</th>\n",
       "      <td>-4.398773</td>\n",
       "    </tr>\n",
       "    <tr>\n",
       "      <th>4</th>\n",
       "      <td>-2.609206</td>\n",
       "    </tr>\n",
       "    <tr>\n",
       "      <th>5</th>\n",
       "      <td>-2.554898</td>\n",
       "    </tr>\n",
       "  </tbody>\n",
       "</table>\n",
       "</div>"
      ],
      "text/plain": [
       "   ewm_diff\n",
       "0  2.257353\n",
       "1  2.278279\n",
       "2 -0.677632\n",
       "3 -4.398773\n",
       "4 -2.609206\n",
       "5 -2.554898"
      ]
     },
     "execution_count": 27,
     "metadata": {},
     "output_type": "execute_result"
    }
   ],
   "source": [
    "test_set"
   ]
  },
  {
   "cell_type": "markdown",
   "metadata": {},
   "source": [
    "#### Rescaling Back to Scale"
   ]
  },
  {
   "cell_type": "code",
   "execution_count": 40,
   "metadata": {},
   "outputs": [
    {
     "name": "stdout",
     "output_type": "stream",
     "text": [
      "rolling avg 3.7426470588235285\n",
      "rolling avg 4.721721027064538\n",
      "rolling avg 5.677631578947369\n",
      "rolling avg 5.39877268297822\n",
      "rolling avg 3.609205757373772\n",
      "rolling avg 2.554898466051736\n"
     ]
    }
   ],
   "source": [
    "train_set = df.iloc[:window_setting]\n",
    "test_set = test_set['ewm_diff'].reset_index().iloc[:, 1:]\n",
    "\n",
    "original_tail = train_set['A'].tail(window_setting)\n",
    "test_set_squeezed = test_set.squeeze()\n",
    "for item in test_set_squeezed:\n",
    "    ewm_rolling_avg = original_tail.ewm(span=4, min_periods=4, adjust=True).mean()\n",
    "    ewm_rolling_avg = ewm_rolling_avg.reset_index().iloc[:,1]\n",
    "    ewm_rolling_avg = ewm_rolling_avg[len(original_tail)-1]\n",
    "    \n",
    "    # original_tail.tail(4).ewm(span=4, adjust=False).mean()[window_setting-1]\n",
    "    #print(original_tail.tail(4))\n",
    "    print('rolling avg', ewm_rolling_avg)\n",
    "    #print(item)\n",
    "    #print('sum', item + ewm_rolling_avg)\n",
    "    \n",
    "    unscaled_result = item + ewm_rolling_avg\n",
    "    original_tail = original_tail.append(pd.Series([float(unscaled_result)]))"
   ]
  },
  {
   "cell_type": "code",
   "execution_count": 44,
   "metadata": {},
   "outputs": [
    {
     "data": {
      "text/plain": [
       "0    9.0\n",
       "1    0.0\n",
       "2    7.0\n",
       "3    2.0\n",
       "4    6.0\n",
       "5    7.0\n",
       "6    5.0\n",
       "7    1.0\n",
       "8    1.0\n",
       "9    0.0\n",
       "dtype: float64"
      ]
     },
     "execution_count": 44,
     "metadata": {},
     "output_type": "execute_result"
    }
   ],
   "source": [
    "original_tail = original_tail.reset_index(drop=True)\n",
    "df['D'] = original_tail"
   ]
  },
  {
   "cell_type": "code",
   "execution_count": 45,
   "metadata": {},
   "outputs": [
    {
     "data": {
      "text/html": [
       "<div>\n",
       "<style scoped>\n",
       "    .dataframe tbody tr th:only-of-type {\n",
       "        vertical-align: middle;\n",
       "    }\n",
       "\n",
       "    .dataframe tbody tr th {\n",
       "        vertical-align: top;\n",
       "    }\n",
       "\n",
       "    .dataframe thead th {\n",
       "        text-align: right;\n",
       "    }\n",
       "</style>\n",
       "<table border=\"1\" class=\"dataframe\">\n",
       "  <thead>\n",
       "    <tr style=\"text-align: right;\">\n",
       "      <th></th>\n",
       "      <th>A</th>\n",
       "      <th>B</th>\n",
       "      <th>C</th>\n",
       "      <th>exp_moving_avg</th>\n",
       "      <th>ewm_diff</th>\n",
       "      <th>D</th>\n",
       "    </tr>\n",
       "  </thead>\n",
       "  <tbody>\n",
       "    <tr>\n",
       "      <th>0</th>\n",
       "      <td>9</td>\n",
       "      <td>NaN</td>\n",
       "      <td>9</td>\n",
       "      <td>NaN</td>\n",
       "      <td>NaN</td>\n",
       "      <td>9.0</td>\n",
       "    </tr>\n",
       "    <tr>\n",
       "      <th>1</th>\n",
       "      <td>0</td>\n",
       "      <td>-9.0</td>\n",
       "      <td>0</td>\n",
       "      <td>NaN</td>\n",
       "      <td>NaN</td>\n",
       "      <td>0.0</td>\n",
       "    </tr>\n",
       "    <tr>\n",
       "      <th>2</th>\n",
       "      <td>7</td>\n",
       "      <td>7.0</td>\n",
       "      <td>7</td>\n",
       "      <td>NaN</td>\n",
       "      <td>NaN</td>\n",
       "      <td>7.0</td>\n",
       "    </tr>\n",
       "    <tr>\n",
       "      <th>3</th>\n",
       "      <td>2</td>\n",
       "      <td>-5.0</td>\n",
       "      <td>2</td>\n",
       "      <td>NaN</td>\n",
       "      <td>NaN</td>\n",
       "      <td>2.0</td>\n",
       "    </tr>\n",
       "    <tr>\n",
       "      <th>4</th>\n",
       "      <td>6</td>\n",
       "      <td>4.0</td>\n",
       "      <td>6</td>\n",
       "      <td>3.742647</td>\n",
       "      <td>2.257353</td>\n",
       "      <td>6.0</td>\n",
       "    </tr>\n",
       "    <tr>\n",
       "      <th>5</th>\n",
       "      <td>7</td>\n",
       "      <td>1.0</td>\n",
       "      <td>7</td>\n",
       "      <td>4.721721</td>\n",
       "      <td>2.278279</td>\n",
       "      <td>7.0</td>\n",
       "    </tr>\n",
       "    <tr>\n",
       "      <th>6</th>\n",
       "      <td>5</td>\n",
       "      <td>-2.0</td>\n",
       "      <td>5</td>\n",
       "      <td>5.677632</td>\n",
       "      <td>-0.677632</td>\n",
       "      <td>5.0</td>\n",
       "    </tr>\n",
       "    <tr>\n",
       "      <th>7</th>\n",
       "      <td>1</td>\n",
       "      <td>-4.0</td>\n",
       "      <td>1</td>\n",
       "      <td>5.398773</td>\n",
       "      <td>-4.398773</td>\n",
       "      <td>1.0</td>\n",
       "    </tr>\n",
       "    <tr>\n",
       "      <th>8</th>\n",
       "      <td>1</td>\n",
       "      <td>0.0</td>\n",
       "      <td>1</td>\n",
       "      <td>3.609206</td>\n",
       "      <td>-2.609206</td>\n",
       "      <td>1.0</td>\n",
       "    </tr>\n",
       "    <tr>\n",
       "      <th>9</th>\n",
       "      <td>0</td>\n",
       "      <td>-1.0</td>\n",
       "      <td>0</td>\n",
       "      <td>2.554898</td>\n",
       "      <td>-2.554898</td>\n",
       "      <td>0.0</td>\n",
       "    </tr>\n",
       "  </tbody>\n",
       "</table>\n",
       "</div>"
      ],
      "text/plain": [
       "   A    B  C  exp_moving_avg  ewm_diff    D\n",
       "0  9  NaN  9             NaN       NaN  9.0\n",
       "1  0 -9.0  0             NaN       NaN  0.0\n",
       "2  7  7.0  7             NaN       NaN  7.0\n",
       "3  2 -5.0  2             NaN       NaN  2.0\n",
       "4  6  4.0  6        3.742647  2.257353  6.0\n",
       "5  7  1.0  7        4.721721  2.278279  7.0\n",
       "6  5 -2.0  5        5.677632 -0.677632  5.0\n",
       "7  1 -4.0  1        5.398773 -4.398773  1.0\n",
       "8  1  0.0  1        3.609206 -2.609206  1.0\n",
       "9  0 -1.0  0        2.554898 -2.554898  0.0"
      ]
     },
     "execution_count": 45,
     "metadata": {},
     "output_type": "execute_result"
    }
   ],
   "source": [
    "df"
   ]
  },
  {
   "cell_type": "markdown",
   "metadata": {},
   "source": [
    "# DONE. Now for LME"
   ]
  },
  {
   "cell_type": "code",
   "execution_count": 47,
   "metadata": {},
   "outputs": [],
   "source": [
    "LME_futures = pd.read_excel('forecasting_raw_data/LME Futures Price.xlsx')\n",
    "LME_futures = LME_futures.iloc[3:, 1:]\n",
    "#LME_futures['Unnamed: 1'] = pd.datetime(LME_futures['Unnamed: 1'])\n",
    "LME_futures.index = LME_futures['Unnamed: 1']\n",
    "\n",
    "LME_futures = LME_futures.iloc[:, 1:]\n",
    "LME_futures = LME_futures[LME_futures.index.year>=2000]\n",
    "LME_futures.isnull().sum()\n",
    "LME = LME_futures.iloc[:, 0]\n",
    "LME = LME.astype(float)\n",
    "LME = LME.resample('B').mean()\n"
   ]
  },
  {
   "cell_type": "code",
   "execution_count": 48,
   "metadata": {},
   "outputs": [],
   "source": [
    "def preprocess(series, window_setting):\n",
    "    moving_avg =series.ewm(span=4, min_periods=4, adjust=True).mean().shift()\n",
    "    moving_avg_diff = series - moving_avg\n",
    "    return moving_avg_diff, moving_avg"
   ]
  },
  {
   "cell_type": "code",
   "execution_count": 49,
   "metadata": {},
   "outputs": [],
   "source": [
    "LME_stationary, moving_avg_list = preprocess(LME, 4)\n",
    "\n",
    "window_setting= 4"
   ]
  },
  {
   "cell_type": "code",
   "execution_count": 51,
   "metadata": {},
   "outputs": [],
   "source": [
    "moving_avg_list_test = moving_avg_list['2017-10-31':]\n",
    "moving_avg_list_train = moving_avg_list[:'2017-10-30']"
   ]
  },
  {
   "cell_type": "code",
   "execution_count": 66,
   "metadata": {},
   "outputs": [
    {
     "data": {
      "text/plain": [
       "2000-01-07    8162.0\n",
       "2000-01-10    8120.0\n",
       "2000-01-11    8044.0\n",
       "2000-01-12    8184.0\n",
       "2000-01-13    8105.7\n",
       "dtype: float64"
      ]
     },
     "execution_count": 66,
     "metadata": {},
     "output_type": "execute_result"
    }
   ],
   "source": [
    "y_test = LME_stationary['2017-10-31':]\n",
    "y_train = LME_stationary[:'2017-10-30']\n",
    "\n",
    "\n",
    "#original_tail = LME.loc[y_train.index[-window_setting:]]\n",
    "original_tail = LME.loc[:'2017-10-30']\n",
    "\n",
    "y_pred_unscaled = []\n",
    "\n",
    "ewm_moving_avg_list = []\n",
    "\n",
    "y_test_squeezed = y_test.squeeze()\n",
    "for item in y_test_squeezed:\n",
    "    ewm_rolling_avg = original_tail.ewm(span=4, min_periods=4, adjust=True).mean()\n",
    "    ewm_rolling_avg = ewm_rolling_avg.reset_index(drop=True)\n",
    "    ewm_rolling_avg = ewm_rolling_avg[len(original_tail)-1]\n",
    "    \n",
    "    ewm_moving_avg_list.append(float(ewm_rolling_avg))\n",
    "    \n",
    "    unscaled_result = item + ewm_rolling_avg\n",
    "    original_tail = original_tail.append(pd.Series([float(unscaled_result)]))\n",
    "\n",
    "    y_pred_unscaled.append(float(unscaled_result))\n",
    "    \n",
    "original_tail = pd.Series(original_tail)\n",
    "original_tail = original_tail[window_setting:]\n",
    "#original_tail.index = y_test.index\n",
    "original_tail.head()"
   ]
  },
  {
   "cell_type": "code",
   "execution_count": 71,
   "metadata": {},
   "outputs": [
    {
     "data": {
      "text/plain": [
       "Unnamed: 1\n",
       "2019-10-01    17434.0\n",
       "2019-10-02    17640.0\n",
       "2019-10-03    17775.0\n",
       "2019-10-04    17906.0\n",
       "2019-10-07    17810.0\n",
       "Freq: B, dtype: float64"
      ]
     },
     "execution_count": 71,
     "metadata": {},
     "output_type": "execute_result"
    }
   ],
   "source": [
    "y_pred_unscaled= pd.Series(y_pred_unscaled)\n",
    "\n",
    "y_pred_unscaled.index = y_test.index\n",
    "\n",
    "\n",
    "y_pred_unscaled.tail()"
   ]
  },
  {
   "cell_type": "code",
   "execution_count": 70,
   "metadata": {},
   "outputs": [
    {
     "data": {
      "text/plain": [
       "Unnamed: 1\n",
       "2019-10-07    17810.0\n",
       "Freq: B, Name: Cash Price ($/MT), dtype: float64"
      ]
     },
     "execution_count": 70,
     "metadata": {},
     "output_type": "execute_result"
    }
   ],
   "source": [
    "LME[LME.index=='2019-10-07']"
   ]
  },
  {
   "cell_type": "code",
   "execution_count": null,
   "metadata": {},
   "outputs": [],
   "source": []
  }
 ],
 "metadata": {
  "kernelspec": {
   "display_name": "Python 3",
   "language": "python",
   "name": "python3"
  },
  "language_info": {
   "codemirror_mode": {
    "name": "ipython",
    "version": 3
   },
   "file_extension": ".py",
   "mimetype": "text/x-python",
   "name": "python",
   "nbconvert_exporter": "python",
   "pygments_lexer": "ipython3",
   "version": "3.7.3"
  }
 },
 "nbformat": 4,
 "nbformat_minor": 2
}
