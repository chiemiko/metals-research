{
 "cells": [
  {
   "cell_type": "markdown",
   "metadata": {},
   "source": [
    "### Make sure to install ChromeDriver here (May need to update which chromedriver is saved in current working python directory):\n",
    "https://sites.google.com/a/chromium.org/chromedriver/downloads\n",
    "\n",
    "https://towardsdatascience.com/web-scraping-using-selenium-python-8a60f4cf40ab"
   ]
  },
  {
   "cell_type": "code",
   "execution_count": 66,
   "metadata": {},
   "outputs": [],
   "source": [
    "from requests import get\n",
    "from requests.exceptions import RequestException\n",
    "from contextlib import closing\n",
    "from bs4 import BeautifulSoup\n",
    "\n",
    "\n",
    "from selenium import webdriver\n",
    "from selenium.webdriver.support.ui import WebDriverWait \n",
    "from selenium.webdriver.support import expected_conditions\n",
    "from bs4 import BeautifulSoup\n",
    "import re\n",
    "import pandas as pd\n",
    "import numpy as np\n",
    "from datetime import datetime\n",
    "#from datetime import date\n",
    "#import datetime\n",
    "\n",
    "from requests import get\n",
    "from requests.exceptions import RequestException\n",
    "from contextlib import closing\n",
    "\n"
   ]
  },
  {
   "cell_type": "code",
   "execution_count": 67,
   "metadata": {},
   "outputs": [],
   "source": [
    "time_of_search = str(datetime.now())\n",
    "import datetime"
   ]
  },
  {
   "cell_type": "code",
   "execution_count": 68,
   "metadata": {},
   "outputs": [],
   "source": [
    "def simple_get(url):\n",
    "    \"\"\"\n",
    "    Attempts to get the content at `url` by making an HTTP GET request.\n",
    "    If the content-type of response is some kind of HTML/XML, return the\n",
    "    beautifulsoup object.\n",
    "    \"\"\"\n",
    "    try:\n",
    "        #with closing(get(url, stream=True)) as resp:\n",
    "        chrome_options = webdriver.ChromeOptions()\n",
    "        driver = webdriver.Chrome(\"chromedriver\")\n",
    "        driver.implicitly_wait(20)\n",
    "        driver.get(url)\n",
    "        soup = BeautifulSoup(driver.page_source, 'lxml')\n",
    "        if type(driver) == webdriver.chrome.webdriver.WebDriver:\n",
    "            return soup, driver\n",
    "        else:\n",
    "            return None\n",
    "\n",
    "    except Exception:\n",
    "        # MAIN ERROR? \n",
    "        #log_error('Error during requests to {0} : {1}'.format(url, str(e)))\n",
    "        print('Error retrieving contents at {}'.format(url))\n",
    "        return None"
   ]
  },
  {
   "cell_type": "code",
   "execution_count": 69,
   "metadata": {},
   "outputs": [
    {
     "data": {
      "text/plain": [
       "'\\n\\nData structure of forecasting project - \\nUse SQL Lite and CSV format to have human review data scrape incase of errors\\n\\n\\n'"
      ]
     },
     "execution_count": 69,
     "metadata": {},
     "output_type": "execute_result"
    }
   ],
   "source": [
    "url = f'https://www.lme.com/en-GB/Metals/Non-ferrous/Nickel#tabIndex=0'\n",
    "soup, driver = simple_get(url)\n",
    "\n",
    "soup = BeautifulSoup(driver.page_source, 'lxml')\n",
    "\n",
    "#h2 = soup.find('div', id=\"LME NICKEL OFFICIAL PRICES, US$ PER TONNE\").h2\n",
    "\n",
    "html = soup.find_all('div', attrs={'id': 'module-63'})\n",
    "text_list = html[0].getText().strip().split()\n",
    "\n",
    "\n",
    "for i,item in enumerate(text_list):\n",
    "    if item.lower() == 'cash':\n",
    "        nickel_price = text_list[i+1]\n",
    "        \n",
    "\n",
    "'''\n",
    "\n",
    "Data structure of forecasting project - \n",
    "Use SQL Lite and CSV format to have human review data scrape incase of errors\n",
    "\n",
    "\n",
    "'''"
   ]
  },
  {
   "cell_type": "code",
   "execution_count": 70,
   "metadata": {},
   "outputs": [
    {
     "name": "stdout",
     "output_type": "stream",
     "text": [
      "14365.00\n"
     ]
    }
   ],
   "source": [
    "print(nickel_price)"
   ]
  },
  {
   "cell_type": "markdown",
   "metadata": {},
   "source": [
    "### Testing"
   ]
  }
 ],
 "metadata": {
  "kernelspec": {
   "display_name": "Python 3",
   "language": "python",
   "name": "python3"
  },
  "language_info": {
   "codemirror_mode": {
    "name": "ipython",
    "version": 3
   },
   "file_extension": ".py",
   "mimetype": "text/x-python",
   "name": "python",
   "nbconvert_exporter": "python",
   "pygments_lexer": "ipython3",
   "version": "3.7.3"
  }
 },
 "nbformat": 4,
 "nbformat_minor": 2
}
