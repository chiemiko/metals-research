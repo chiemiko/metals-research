{
 "cells": [
  {
   "cell_type": "code",
   "execution_count": null,
   "metadata": {},
   "outputs": [],
   "source": [
    "\n",
    "\n",
    "C:\\Users\\ckato\\Documents\\GitHub\\metals-research\\data\n",
    "    "
   ]
  },
  {
   "cell_type": "code",
   "execution_count": 42,
   "metadata": {},
   "outputs": [],
   "source": [
    "from sqlalchemy import create_engine\n",
    "from sqlalchemy import(Table, Column, String, Integer, Boolean)\n",
    "from sqlalchemy import MetaData, Table\n",
    "\n",
    "import pandas as pd\n",
    "# https://campus.datacamp.com/courses/introduction-to-relational-databases-in-python/creating-and-manipulating-your-own-databases?ex=1\n",
    "    \n",
    "# Missing decimal"
   ]
  },
  {
   "cell_type": "code",
   "execution_count": 36,
   "metadata": {},
   "outputs": [],
   "source": [
    "# Connecting to Engine\n",
    "engine = create_engine('sqlite:///metals_dashboard.sqlite')\n",
    "\n",
    "connection = engine.connect()"
   ]
  },
  {
   "cell_type": "code",
   "execution_count": 41,
   "metadata": {},
   "outputs": [
    {
     "name": "stdout",
     "output_type": "stream",
     "text": [
      "['census']\n"
     ]
    }
   ],
   "source": [
    "# What's in the database already?\n",
    "print(engine.table_names())"
   ]
  },
  {
   "cell_type": "code",
   "execution_count": 21,
   "metadata": {},
   "outputs": [
    {
     "name": "stdout",
     "output_type": "stream",
     "text": [
      "(274, 2)\n",
      "name\n",
      "population\n"
     ]
    }
   ],
   "source": [
    "values_list = []\n",
    "\n",
    "df = pd.read_csv('data\\city.csv')\n",
    "print(df.shape)\n",
    "\n",
    "for col in df:\n",
    "    print(col)\n",
    "    \n",
    "    data = {'name': col[0], 'population': col[1]}\n",
    "    #print(data)\n",
    "    #values_list.append(data)\n",
    "\n",
    "#print(values_list)"
   ]
  },
  {
   "cell_type": "code",
   "execution_count": 34,
   "metadata": {},
   "outputs": [
    {
     "name": "stdout",
     "output_type": "stream",
     "text": [
      "          Name  Population\n",
      "0      Abilene      115930\n",
      "1        Akron      217074\n",
      "2       Albany       93994\n",
      "3  Albuquerque      448607\n",
      "4   Alexandria      128283\n"
     ]
    }
   ],
   "source": [
    "\n",
    "# read census.csv into a dataframe : census_df\n",
    "census_df = pd.read_csv(\"data\\city.csv\")\n",
    "\n",
    "# rename the columns of the census dataframe\n",
    "census_df.columns = ['Name', 'Population']\n",
    "\n",
    "print(census_df.head())\n",
    "\n"
   ]
  },
  {
   "cell_type": "code",
   "execution_count": 44,
   "metadata": {},
   "outputs": [
    {
     "name": "stdout",
     "output_type": "stream",
     "text": [
      "Table('census', MetaData(bind=None), Column('Name', TEXT(), table=<census>), Column('Population', BIGINT(), table=<census>), schema=None)\n"
     ]
    }
   ],
   "source": [
    "# Access table with python\n",
    "# metadata reads daabase and builds a SQL alchemy table object\n",
    "\n",
    "metadata = MetaData()\n",
    "\n",
    "sqlalchemy_table = Table('census', metadata, autoload=True,\n",
    "           autoload_with = engine)\n",
    "\n",
    "print(repr(sqlalchemy_table))"
   ]
  },
  {
   "cell_type": "code",
   "execution_count": 37,
   "metadata": {},
   "outputs": [],
   "source": [
    "\n",
    "\n",
    "# append the data from census_df to the \"census\" table via connection\n",
    "census_df.to_sql(name=\"census\", con=connection, if_exists=\"append\", index=False)"
   ]
  },
  {
   "cell_type": "code",
   "execution_count": null,
   "metadata": {},
   "outputs": [],
   "source": []
  }
 ],
 "metadata": {
  "kernelspec": {
   "display_name": "Python 3",
   "language": "python",
   "name": "python3"
  },
  "language_info": {
   "codemirror_mode": {
    "name": "ipython",
    "version": 3
   },
   "file_extension": ".py",
   "mimetype": "text/x-python",
   "name": "python",
   "nbconvert_exporter": "python",
   "pygments_lexer": "ipython3",
   "version": "3.7.3"
  }
 },
 "nbformat": 4,
 "nbformat_minor": 2
}
